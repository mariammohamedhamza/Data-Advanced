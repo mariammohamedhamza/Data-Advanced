{
 "cells": [
  {
   "cell_type": "code",
   "execution_count": null,
   "id": "632c158c",
   "metadata": {},
   "outputs": [],
   "source": [
    "!pip install dash\n",
    "!pip install dash-bootstrap-components"
   ]
  },
  {
   "cell_type": "code",
   "execution_count": null,
   "id": "abc69bad",
   "metadata": {},
   "outputs": [],
   "source": [
    "import pandas as pd\n",
    "import plotly.express as px\n",
    "from dash import Dash, dcc, html, Input, Output\n",
    "import dash_bootstrap_components as dbc"
   ]
  },
  {
   "cell_type": "code",
   "execution_count": null,
   "id": "5dd389b9",
   "metadata": {},
   "outputs": [],
   "source": [
    "# Load the data\n",
    "df = pd.read_csv(\"/content/OnlineRetail.csv\", encoding='ISO-8859-1')"
   ]
  },
  {
   "cell_type": "code",
   "execution_count": null,
   "id": "dd330cd5",
   "metadata": {},
   "outputs": [],
   "source": [
    "# Remove rows where CustomerID is missing (needed for customer-level analysis)\n",
    "df.dropna(subset=[\"CustomerID\"], inplace=True)\n",
    "\n",
    "# Create a new column for total price per transaction (Quantity * UnitPrice)\n",
    "df['TotalPrice'] = df['Quantity'] * df['UnitPrice']\n",
    "\n",
    "# Convert InvoiceDate column to datetime format for time-based analysis\n",
    "df['InvoiceDate'] = pd.to_datetime(df['InvoiceDate'], dayfirst=True)\n",
    "df['InvoiceMonth'] = df['InvoiceDate'].dt.to_period('M')"
   ]
  },
  {
   "cell_type": "code",
   "execution_count": null,
   "id": "fecf682f",
   "metadata": {},
   "outputs": [],
   "source": [
    "# Calculate KPIs\n",
    "kpi_total_revenue = df['TotalPrice'].sum()\n",
    "kpi_total_invoices = df['InvoiceNo'].nunique()\n",
    "kpi_total_customers = df['CustomerID'].nunique()\n",
    "kpi_avg_recency = (df['InvoiceDate'].max() - df.groupby('CustomerID')['InvoiceDate'].max()).dt.days.mean()"
   ]
  },
  {
   "cell_type": "code",
   "execution_count": null,
   "id": "8275ef9f",
   "metadata": {},
   "outputs": [],
   "source": [
    "# Top 10 Products\n",
    "top_products = df.groupby('Description')['Quantity'].sum().sort_values(ascending=False).head(10).reset_index()"
   ]
  },
  {
   "cell_type": "code",
   "execution_count": null,
   "id": "7b88eb61",
   "metadata": {},
   "outputs": [],
   "source": [
    "# Revenue over time\n",
    "revenue_over_time = df.groupby('InvoiceMonth')['TotalPrice'].sum().reset_index()\n",
    "revenue_over_time['InvoiceMonth'] = revenue_over_time['InvoiceMonth'].astype(str)"
   ]
  },
  {
   "cell_type": "code",
   "execution_count": null,
   "id": "cb5ae8da",
   "metadata": {},
   "outputs": [],
   "source": [
    "# Country sales distribution\n",
    "country_sales = df.groupby('Country')['TotalPrice'].sum().sort_values(ascending=False).reset_index()"
   ]
  },
  {
   "cell_type": "code",
   "execution_count": null,
   "id": "76668b60",
   "metadata": {},
   "outputs": [],
   "source": [
    "# App setup\n",
    "app = Dash(__name__)\n",
    "app.title = \"Online Retail Dashboard\""
   ]
  },
  {
   "cell_type": "code",
   "execution_count": null,
   "id": "6250c670",
   "metadata": {},
   "outputs": [],
   "source": [
    "# App layout\n",
    "app.layout = dbc.Container([\n",
    "    html.H1(\"SmartRetail360 - Sales & Customer Analytics Dashboard\", className=\"text-center my-4\"),\n",
    "\n",
    "    dbc.Row([\n",
    "        dbc.Col(dbc.Card([dbc.CardBody([html.H4(\"Total Revenue\"), html.H2(f\"\\u00a3{kpi_total_revenue:,.0f}\")])]), width=3),\n",
    "        dbc.Col(dbc.Card([dbc.CardBody([html.H4(\"Total Invoices\"), html.H2(f\"{kpi_total_invoices}\")])]), width=3),\n",
    "        dbc.Col(dbc.Card([dbc.CardBody([html.H4(\"Unique Customers\"), html.H2(f\"{kpi_total_customers}\")])]), width=3),\n",
    "        dbc.Col(dbc.Card([dbc.CardBody([html.H4(\"Avg. Recency (Days)\"), html.H2(f\"{kpi_avg_recency:.0f}\")])]), width=3),\n",
    "    ], className=\"mb-4\"),\n",
    "\n",
    "    dbc.Row([\n",
    "        dbc.Col([\n",
    "            html.H5(\"Revenue Over Time\"),\n",
    "            dcc.Graph(figure=px.line(revenue_over_time, x='InvoiceMonth', y='TotalPrice', title='Monthly Revenue'))\n",
    "        ], width=6),\n",
    "\n",
    "        dbc.Col([\n",
    "            html.H5(\"Top 10 Selling Products\"),\n",
    "            dcc.Graph(figure=px.bar(top_products, x='Quantity', y='Description', orientation='h', title='Top Products'))\n",
    "        ], width=6),\n",
    "    ]),\n",
    "\n",
    "    dbc.Row([\n",
    "        dbc.Col([\n",
    "            html.H5(\"Sales by Country\"),\n",
    "            dcc.Graph(figure=px.pie(country_sales, values='TotalPrice', names='Country', title='Country Sales Share'))\n",
    "        ], width=6),\n",
    "    ])\n",
    "\n",
    "], fluid=True)"
   ]
  },
  {
   "cell_type": "code",
   "execution_count": null,
   "id": "11eac086",
   "metadata": {},
   "outputs": [],
   "source": [
    "if __name__ == '__main__':\n",
    "    app.run(debug=True)"
   ]
  }
 ],
 "metadata": {
  "kernelspec": {
   "display_name": "Python 3",
   "language": "python",
   "name": "python3"
  },
  "language_info": {
   "name": "python",
   "version": "3.12.1"
  }
 },
 "nbformat": 4,
 "nbformat_minor": 5
}

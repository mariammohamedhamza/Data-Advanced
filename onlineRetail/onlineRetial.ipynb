{
 "cells": [
  {
   "cell_type": "code",
   "execution_count": null,
   "id": "2bdb230b",
   "metadata": {},
   "outputs": [],
   "source": [
    "import pandas as pd\n",
    "from sklearn.preprocessing import LabelEncoder\n",
    "import matplotlib.pyplot as plt"
   ]
  },
  {
   "cell_type": "code",
   "execution_count": null,
   "id": "a03817d2",
   "metadata": {},
   "outputs": [],
   "source": [
    "# The file is not encoded in UTF-8, so we specify the correct encoding (ISO-8859-1)\n",
    "# to avoid UnicodeDecodeError when reading the CSV file\n",
    "df = pd.read_csv('/content/OnlineRetail.csv', encoding='ISO-8859-1')"
   ]
  },
  {
   "cell_type": "code",
   "execution_count": null,
   "id": "882686ca",
   "metadata": {},
   "outputs": [],
   "source": [
    "df.head()"
   ]
  },
  {
   "cell_type": "code",
   "execution_count": null,
   "id": "493bf0da",
   "metadata": {},
   "outputs": [],
   "source": [
    "data =df.copy()"
   ]
  },
  {
   "cell_type": "markdown",
   "id": "1d19400c",
   "metadata": {},
   "source": [
    "# Display the shape of the dataset (number of rows and columns)\n",
    "df.shape"
   ]
  },
  {
   "cell_type": "markdown",
   "id": "b2198d3c",
   "metadata": {},
   "source": [
    "df.columns"
   ]
  },
  {
   "cell_type": "markdown",
   "id": "b8038f3b",
   "metadata": {},
   "source": [
    "# Get a quick summary of data types and missing values\n",
    "df.info()"
   ]
  },
  {
   "cell_type": "markdown",
   "id": "3175c765",
   "metadata": {},
   "source": [
    "# Display summary statistics for numerical columns\n",
    "df.describe()"
   ]
  },
  {
   "cell_type": "code",
   "execution_count": null,
   "id": "4fa987fe",
   "metadata": {},
   "outputs": [],
   "source": [
    "# Display number of unique values in each column\n",
    "print(df.nunique())"
   ]
  },
  {
   "cell_type": "code",
   "execution_count": null,
   "id": "a10352c9",
   "metadata": {},
   "outputs": [],
   "source": [
    "# Count unique countries\n",
    "print(\"Number of countries:\", df['Country'].nunique())\n",
    "print(df['Country'].value_counts())"
   ]
  },
  {
   "cell_type": "code",
   "execution_count": null,
   "id": "598e775b",
   "metadata": {},
   "outputs": [],
   "source": [
    "# Check top 5 most common customers\n",
    "print(df['CustomerID'].value_counts().head())"
   ]
  },
  {
   "cell_type": "code",
   "execution_count": null,
   "id": "02fc6079",
   "metadata": {},
   "outputs": [],
   "source": [
    "# Check if there are any negative quantities or prices (possibly returns or errors or outlier)\n",
    "print(\"Negative Quantity values:\", (df['Quantity'] < 0).sum())\n",
    "print(\"Negative UnitPrice values:\", (df['UnitPrice'] < 0).sum())"
   ]
  },
  {
   "cell_type": "code",
   "execution_count": null,
   "id": "f5260f5e",
   "metadata": {},
   "outputs": [],
   "source": [
    "# Check for duplicates\n",
    "print(\"Number of duplicate rows:\", df.duplicated().sum())"
   ]
  },
  {
   "cell_type": "code",
   "execution_count": null,
   "id": "d80373d7",
   "metadata": {},
   "outputs": [],
   "source": [
    "# Check missing values in each column\n",
    "df.isnull().sum()"
   ]
  },
  {
   "cell_type": "code",
   "execution_count": null,
   "id": "510e8865",
   "metadata": {},
   "outputs": [],
   "source": [
    "# Drop rows where CustomerID is missing, since it's a key identifier and cannot be imputed reliably\n",
    "df = df.dropna(subset=['CustomerID'])"
   ]
  },
  {
   "cell_type": "code",
   "execution_count": null,
   "id": "9eccf489",
   "metadata": {},
   "outputs": [],
   "source": [
    "# Create a mapping from StockCode to Description (only for non-NaN values)\n",
    "stockcode_to_desc = df.dropna(subset=['Description']).drop_duplicates('StockCode').set_index('StockCode')['Description']\n",
    "\n",
    "# Use the map to fill in missing Description values\n",
    "df['Description'] = df['Description'].fillna(df['StockCode'].map(stockcode_to_desc)) "
   ]
  },
  {
   "cell_type": "code",
   "execution_count": null,
   "id": "03cc0cfb",
   "metadata": {},
   "outputs": [],
   "source": [
    "df = df.dropna(subset=['Quantity'])  # Drop row with missing Quantity"
   ]
  },
  {
   "cell_type": "code",
   "execution_count": null,
   "id": "434ae6dd",
   "metadata": {},
   "outputs": [],
   "source": [
    "df = df.dropna(subset=['InvoiceDate'])  # Drop row with missing InvoiceDate"
   ]
  },
  {
   "cell_type": "code",
   "execution_count": null,
   "id": "6dd745f3",
   "metadata": {},
   "outputs": [],
   "source": [
    "df = df.dropna(subset=['Country'])  # Drop row with missing Country"
   ]
  },
  {
   "cell_type": "code",
   "execution_count": null,
   "id": "8c3e9617",
   "metadata": {},
   "outputs": [],
   "source": [
    "df.isnull().sum()   #done"
   ]
  },
  {
   "cell_type": "code",
   "execution_count": null,
   "id": "26109a59",
   "metadata": {},
   "outputs": [],
   "source": [
    "# remove duplicates\n",
    "df = df.drop_duplicates()"
   ]
  },
  {
   "cell_type": "code",
   "execution_count": null,
   "id": "7328728c",
   "metadata": {},
   "outputs": [],
   "source": [
    "# Check for duplicates\n",
    "print(\"Number of duplicate rows:\", df.duplicated().sum())"
   ]
  },
  {
   "cell_type": "code",
   "execution_count": null,
   "id": "59861e23",
   "metadata": {},
   "outputs": [],
   "source": [
    "#Convert InvoiceDate to datetime format\n",
    "df['InvoiceDate'] = pd.to_datetime(df['InvoiceDate'], errors='coerce')"
   ]
  },
  {
   "cell_type": "code",
   "execution_count": null,
   "id": "5452cd27",
   "metadata": {},
   "outputs": [],
   "source": [
    "print(df['InvoiceDate'].dtypes)"
   ]
  },
  {
   "cell_type": "code",
   "execution_count": null,
   "id": "d5121aaa",
   "metadata": {},
   "outputs": [],
   "source": [
    "# Extract year, month, day, and hour from the 'InvoiceDate' column\n",
    "df['Year'] = df['InvoiceDate'].dt.year\n",
    "df['Month'] = df['InvoiceDate'].dt.month\n",
    "df['Day'] = df['InvoiceDate'].dt.day\n",
    "df['Hour'] = df['InvoiceDate'].dt.hour\n",
    "df['Weekday'] = df['InvoiceDate'].dt.day_name() # Create a new column with the name of the weekday from 'InvoiceDate'"
   ]
  },
  {
   "cell_type": "code",
   "execution_count": null,
   "id": "bb6995da",
   "metadata": {},
   "outputs": [],
   "source": [
    "df.head()"
   ]
  },
  {
   "cell_type": "code",
   "execution_count": null,
   "id": "8f3427a4",
   "metadata": {},
   "outputs": [],
   "source": [
    "# Clean the 'Description' text by stripping whitespace and converting to lowercase\n",
    "df['Description'] = df['Description'].str.strip().str.lower()      "
   ]
  },
  {
   "cell_type": "code",
   "execution_count": null,
   "id": "4927b780",
   "metadata": {},
   "outputs": [],
   "source": [
    "# Encode the 'Weekday' column using Label Encoding (e.g., Monday = 0, Tuesday = 1, ...)\n",
    "le = LabelEncoder()\n",
    "df['Weekday_encoded'] = le.fit_transform(df['Weekday'])"
   ]
  },
  {
   "cell_type": "code",
   "execution_count": null,
   "id": "426cc724",
   "metadata": {},
   "outputs": [],
   "source": [
    "# Convert 'Country' column to dummy variables (one-hot encoding), excluding the first category to avoid multicollinearity\n",
    "df = pd.get_dummies(df, columns=['Country'], drop_first=True)"
   ]
  },
  {
   "cell_type": "code",
   "execution_count": null,
   "id": "fb586589",
   "metadata": {},
   "outputs": [],
   "source": [
    "df.head()"
   ]
  },
  {
   "cell_type": "code",
   "execution_count": null,
   "id": "1cd52337",
   "metadata": {},
   "outputs": [],
   "source": [
    "# Remove rows with negative or zero quantity\n",
    "df = df[df['Quantity'] > 0]\n",
    "df = df[df['UnitPrice'] > 0]"
   ]
  },
  {
   "cell_type": "code",
   "execution_count": null,
   "id": "119fc5c3",
   "metadata": {},
   "outputs": [],
   "source": [
    "# Drop rows with missing CustomerID\n",
    "df = df.dropna(subset=['CustomerID'])"
   ]
  },
  {
   "cell_type": "code",
   "execution_count": null,
   "id": "a9c9628f",
   "metadata": {},
   "outputs": [],
   "source": [
    "# Remove rows with empty or invalid descriptions\n",
    "df = df[df['Description'].str.len() > 1]  # remove descriptions like \"?\""
   ]
  },
  {
   "cell_type": "code",
   "execution_count": null,
   "id": "1a285c41",
   "metadata": {},
   "outputs": [],
   "source": [
    "def remove_outliers_iqr(df, column):\n",
    "    Q1 = df[column].quantile(0.25)\n",
    "    Q3 = df[column].quantile(0.75)\n",
    "    IQR = Q3 - Q1\n",
    "    lower = Q1 - 1.5 * IQR\n",
    "    upper = Q3 + 1.5 * IQR\n",
    "    return df[(df[column] >= lower) & (df[column] <= upper)]\n",
    "\n",
    "# Remove outliers from 'Quantity' and 'UnitPrice'\n",
    "df = remove_outliers_iqr(df, 'Quantity')\n",
    "df = remove_outliers_iqr(df, 'UnitPrice')"
   ]
  },
  {
   "cell_type": "code",
   "execution_count": null,
   "id": "a8cf2e4f",
   "metadata": {},
   "outputs": [],
   "source": [
    "df['TotalPrice'] = df['Quantity'] * df['UnitPrice']  #get total price"
   ]
  },
  {
   "cell_type": "code",
   "execution_count": null,
   "id": "6ba13218",
   "metadata": {},
   "outputs": [],
   "source": [
    "# Create a binary feature indicating whether the invoice was canceled (starts with 'C')\n",
    "df['IsCanceled'] = df['InvoiceNo'].str.startswith('C').astype(int)"
   ]
  },
  {
   "cell_type": "code",
   "execution_count": null,
   "id": "b4b1389b",
   "metadata": {},
   "outputs": [],
   "source": [
    "cancel_rate = df['IsCanceled'].mean()\n",
    "cancel_rate"
   ]
  },
  {
   "cell_type": "code",
   "execution_count": null,
   "id": "60166503",
   "metadata": {},
   "outputs": [],
   "source": [
    "# Calculate the number of unique invoices per customer\n",
    "customer_invoice_counts = df.groupby('CustomerID')['InvoiceNo'].nunique()\n",
    "# Map the calculated frequency back to the main DataFrame as a new feature\n",
    "df['Frequency'] = df['CustomerID'].map(customer_invoice_counts)       "
   ]
  },
  {
   "cell_type": "code",
   "execution_count": null,
   "id": "06b7eb98",
   "metadata": {},
   "outputs": [],
   "source": [
    "# Calculate the total spend per customer by grouping and summing the TotalSpend\n",
    "customer_total_spend = df.groupby('CustomerID')['TotalPrice'].sum()\n",
    "df['CustomerSpend'] = df['CustomerID'].map(customer_total_spend) "
   ]
  },
  {
   "cell_type": "code",
   "execution_count": null,
   "id": "8ffcee82",
   "metadata": {},
   "outputs": [],
   "source": [
    "# Calculate total spend per invoice\n",
    "invoice_spend = df.groupby('InvoiceNo')['TotalPrice'].sum()\n",
    "\n",
    "# Get a unique mapping of each invoice to its custome\n",
    "invoice_customer = df.drop_duplicates('InvoiceNo')[['InvoiceNo', 'CustomerID']]\n",
    "\n",
    "# Map the total spend back to each invoice\n",
    "invoice_customer['InvoiceTotal'] = invoice_customer['InvoiceNo'].map(invoice_spend)\n",
    "\n",
    "# Calculate the average basket value (average spend per invoice) for each customer\n",
    "average_basket = invoice_customer.groupby('CustomerID')['InvoiceTotal'].mean()\n",
    "\n",
    "# Map the average basket value back to the main dataframe                                          \n",
    "df['AverageBasketValue'] = df['CustomerID'].map(average_basket)"
   ]
  },
  {
   "cell_type": "code",
   "execution_count": null,
   "id": "ae85ebd2",
   "metadata": {},
   "outputs": [],
   "source": [
    "df.head()"
   ]
  },
  {
   "cell_type": "code",
   "execution_count": null,
   "id": "cd484abb",
   "metadata": {},
   "outputs": [],
   "source": [
    "# Convert 'InvoiceDate' column to datetime format\n",
    "df['InvoiceDate'] = pd.to_datetime(df['InvoiceDate'])\n",
    "# Group total spend per month and plot\n",
    "sales_per_month = df.groupby(df['InvoiceDate'].dt.to_period('M'))['TotalPrice'].sum()\n",
    "sales_per_month.plot()"
   ]
  },
  {
   "cell_type": "code",
   "execution_count": null,
   "id": "d0568482",
   "metadata": {},
   "outputs": [],
   "source": [
    "march_data = df[df['InvoiceDate'].dt.month == 3]\n",
    "march_invoice_count = march_data['InvoiceNo'].nunique()\n",
    "print(\"Number of invoices in March:\", march_invoice_count)\n",
    "print(\"#################################\")\n",
    "march_customers = march_data['CustomerID'].nunique()\n",
    "print(\"Unique customers in March:\", march_customers)"
   ]
  },
  {
   "cell_type": "code",
   "execution_count": null,
   "id": "8837bc6f",
   "metadata": {},
   "outputs": [],
   "source": [
    "march_top_products = march_data.groupby('Description')['Quantity'].sum().sort_values(ascending=False).head(10)\n",
    "march_low_products = march_data.groupby('Description')['Quantity'].sum().sort_values().head(10)\n",
    "print(march_top_products)\n",
    "print(\"#################################\")\n",
    "print(march_low_products)"
   ]
  },
  {
   "cell_type": "code",
   "execution_count": null,
   "id": "77d2060c",
   "metadata": {},
   "outputs": [],
   "source": [
    "march_returns = march_data[march_data['Quantity'] < 0]\n",
    "print(\"Number of returns in March:\", len(march_returns))"
   ]
  },
  {
   "cell_type": "code",
   "execution_count": null,
   "id": "6e1ee025",
   "metadata": {},
   "outputs": [],
   "source": [
    "rfm_df = df.groupby('CustomerID').agg({\n",
    "    'InvoiceDate': lambda x: (df['InvoiceDate'].max() - x.max()).days,  # Recency\n",
    "    'InvoiceNo': 'nunique',                                             # Frequency\n",
    "    'TotalPrice': 'sum'                                                 # Monetary    )(\n",
    "})\n",
    "rfm_df.columns = ['Recency', 'Frequency', 'Monetary']"
   ]
  },
  {
   "cell_type": "code",
   "execution_count": null,
   "id": "2836ac21",
   "metadata": {},
   "outputs": [],
   "source": [
    "# Convert InvoiceDate to datetime if not already\n",
    "df['InvoiceDate'] = pd.to_datetime(df['InvoiceDate'])\n",
    "\n",
    "# Calculate the reference date (the last date in the dataset + 1 day)\n",
    "reference_date = df['InvoiceDate'].max() + pd.Timedelta(days=1)\n",
    "\n",
    "# Recency: Number of days since the customer's last purchase\n",
    "recency_df = df.groupby('CustomerID')['InvoiceDate'].max().reset_index()\n",
    "recency_df['Recency'] = (reference_date - recency_df['InvoiceDate']).dt.days\n",
    "\n",
    "# Merge Recency back to the original dataframe\n",
    "df = df.merge(recency_df[['CustomerID', 'Recency']], on='CustomerID', how='left')\n",
    "\n",
    "# Monetary: Total amount spent by the customer\n",
    "df['TotalPrice'] = df['Quantity'] * df['UnitPrice']  # Create a total price column\n",
    "monetary_df = df.groupby('CustomerID')['TotalPrice'].sum().reset_index()\n",
    "monetary_df.rename(columns={'TotalPrice': 'Monetary'}, inplace=True)\n",
    "\n",
    "# Merge Monetary back to the original dataframe\n",
    "df = df.merge(monetary_df, on='CustomerID', how='left')"
   ]
  },
  {
   "cell_type": "code",
   "execution_count": null,
   "id": "9c51426d",
   "metadata": {},
   "outputs": [],
   "source": [
    "# Get top 10 selling products by total quantity\n",
    "top_products = df.groupby('Description')['Quantity'].sum().sort_values(ascending=False).head(10)\n",
    "top_products"
   ]
  },
  {
   "cell_type": "code",
   "execution_count": null,
   "id": "5b374075",
   "metadata": {},
   "outputs": [],
   "source": [
    "# Add a new column 'Month' to extract month from InvoiceDate\n",
    "df['Month'] = df['InvoiceDate'].dt.month\n",
    "# Calculate total spend per month for seasonal trend analysis\n",
    "seasonal_sales = df.groupby('Month')['TotalPrice'].sum()\n",
    "seasonal_sales"
   ]
  },
  {
   "cell_type": "code",
   "execution_count": null,
   "id": "f1c24053",
   "metadata": {},
   "outputs": [],
   "source": [
    "df['Country']=data['Country']"
   ]
  },
  {
   "cell_type": "code",
   "execution_count": null,
   "id": "469a2c2c",
   "metadata": {},
   "outputs": [],
   "source": [
    "# Group sales by country to find top-performing countri\n",
    "country_sales = df.groupby('Country')['TotalPrice'].sum().sort_values(ascending=False)"
   ]
  },
  {
   "cell_type": "code",
   "execution_count": null,
   "id": "bac3fc3a",
   "metadata": {},
   "outputs": [],
   "source": [
    "from sklearn.cluster import KMeans\n",
    "from sklearn.preprocessing import StandardScaler\n",
    "import matplotlib.pyplot as plt"
   ]
  },
  {
   "cell_type": "code",
   "execution_count": null,
   "id": "86094a10",
   "metadata": {},
   "outputs": [],
   "source": [
    "# Select RFM features\n",
    "rfm = df[['Recency', 'Frequency', 'Monetary']]"
   ]
  },
  {
   "cell_type": "code",
   "execution_count": null,
   "id": "a13349cb",
   "metadata": {},
   "outputs": [],
   "source": [
    "# Scale the data\n",
    "scaler = StandardScaler()\n",
    "rfm_scaled = scaler.fit_transform(rfm)"
   ]
  },
  {
   "cell_type": "code",
   "execution_count": null,
   "id": "406a9ad0",
   "metadata": {},
   "outputs": [],
   "source": [
    "from sklearn.preprocessing import StandardScaler\n",
    "from sklearn.impute import SimpleImputer\n",
    "imputer = SimpleImputer(strategy='mean')\n",
    "rfm_imputed = pd.DataFrame(imputer.fit_transform(rfm), columns=rfm.columns, index=rfm.index)\n",
    "scaler = StandardScaler()\n",
    "rfm_scaled = pd.DataFrame(scaler.fit_transform(rfm_imputed), columns=rfm.columns, index=rfm.index)"
   ]
  },
  {
   "cell_type": "code",
   "execution_count": null,
   "id": "4d1183b6",
   "metadata": {},
   "outputs": [],
   "source": [
    "# Apply KMeans\n",
    "kmeans = KMeans(n_clusters=3, random_state=42)\n",
    "df['CustomerSegment'] = kmeans.fit_predict(rfm_scaled)"
   ]
  },
  {
   "cell_type": "code",
   "execution_count": null,
   "id": "f2e1c6a5",
   "metadata": {},
   "outputs": [],
   "source": [
    "# Map cluster labels to meanings\n",
    "# You can adjust this based on cluster profiling\n",
    "segment_map = {\n",
    "    0: 'Important',\n",
    "    1: 'Normal',\n",
    "    2: 'Low-Value'\n",
    "}"
   ]
  },
  {
   "cell_type": "code",
   "execution_count": null,
   "id": "e018d9bc",
   "metadata": {},
   "outputs": [],
   "source": [
    "df['CustomerSegment'] = df['CustomerSegment'].map(segment_map)\n",
    "\n",
    "# View sample\n",
    "print(df[['CustomerID', 'CustomerSegment']].drop_duplicates().head())"
   ]
  },
  {
   "cell_type": "code",
   "execution_count": null,
   "id": "4277f879",
   "metadata": {},
   "outputs": [],
   "source": [
    "import pandas as pd\n",
    "import numpy as np\n",
    "import matplotlib.pyplot as plt\n",
    "from sklearn.linear_model import LinearRegression"
   ]
  },
  {
   "cell_type": "code",
   "execution_count": null,
   "id": "caf425fd",
   "metadata": {},
   "outputs": [],
   "source": [
    "np.random.seed(42)\n",
    "df['Discount'] = np.round(np.random.uniform(0, 0.5, size=len(df)), 2)\n"
   ]
  },
  {
   "cell_type": "code",
   "execution_count": null,
   "id": "230bb6fb",
   "metadata": {},
   "outputs": [],
   "source": [
    "df = df.dropna(subset=['Discount', 'TotalPrice'])"
   ]
  },
  {
   "cell_type": "code",
   "execution_count": null,
   "id": "758e04fe",
   "metadata": {},
   "outputs": [],
   "source": [
    "# Extract the feature (Discount) and target (TotalSpend)\n",
    "X = df[['Discount']]  # Feature: discount offered\n",
    "y = df['TotalPrice']  # Target: total spend by the customer"
   ]
  },
  {
   "cell_type": "code",
   "execution_count": null,
   "id": "a91f8480",
   "metadata": {},
   "outputs": [],
   "source": [
    "# Fit the Linear Regression model\n",
    "model = LinearRegression()\n",
    "model.fit(X, y)"
   ]
  },
  {
   "cell_type": "code",
   "execution_count": null,
   "id": "edfa3852",
   "metadata": {},
   "outputs": [],
   "source": [
    "# Print the regression equation\n",
    "print(f\"Regression Equation: TotalSpend = {model.coef_[0]:.2f} * Discount + {model.intercept_:.2f}\")"
   ]
  },
  {
   "cell_type": "code",
   "execution_count": null,
   "id": "497fd98b",
   "metadata": {},
   "outputs": [],
   "source": [
    "\n",
    "# Generate predictions for a range of discounts\n",
    "discounts = np.linspace(0, df['Discount'].max(), 100).reshape(-1, 1)\n",
    "predicted_spends = model.predict(discounts)"
   ]
  },
  {
   "cell_type": "code",
   "execution_count": null,
   "id": "bde6b3c3",
   "metadata": {},
   "outputs": [],
   "source": [
    "# Plot the actual data points and the regression line\n",
    "plt.figure(figsize=(10, 6))\n",
    "plt.scatter(df['Discount'], df['TotalPrice'], alpha=0.5, label='Actual Data')\n",
    "plt.plot(discounts, predicted_spends, color='red', linewidth=2, label='Regression Line')\n",
    "plt.xlabel('Discount')\n",
    "plt.ylabel('TotalPrice')\n",
    "plt.title('Effect of Discount on Total Spend')\n",
    "plt.legend()\n",
    "plt.grid(True)\n",
    "plt.show()"
   ]
  },
  {
   "cell_type": "code",
   "execution_count": null,
   "id": "76727d28",
   "metadata": {},
   "outputs": [],
   "source": [
    "# Define a threshold, for example: has the customer purchased more than once?\n",
    "df['WillPurchaseAgain'] = df.groupby('CustomerID')['InvoiceDate'].transform(lambda x: (x.max() - x.min()).days > 30)\n",
    "df['WillPurchaseAgain'] = df['WillPurchaseAgain'].astype(int)"
   ]
  },
  {
   "cell_type": "code",
   "execution_count": null,
   "id": "f04a6b65",
   "metadata": {},
   "outputs": [],
   "source": [
    "import datetime\n",
    "\n",
    "# Assuming today is the cutoff date\n",
    "cutoff_date = datetime.datetime(2011, 12, 10)\n",
    "\n",
    "# Recency calculation\n",
    "latest_purchase = df.groupby('CustomerID')['InvoiceDate'].max()\n",
    "will_purchase = (cutoff_date - latest_purchase).dt.days < 90\n",
    "\n",
    "# Create target variable\n",
    "customer_df = pd.DataFrame({'WillPurchaseAgain': will_purchase.astype(int)})"
   ]
  },
  {
   "cell_type": "code",
   "execution_count": null,
   "id": "1352a443",
   "metadata": {},
   "outputs": [],
   "source": [
    "rfm = df.groupby('CustomerID').agg({\n",
    "    'InvoiceDate': lambda x: (cutoff_date - x.max()).days,  # Recency\n",
    "    'InvoiceNo': 'nunique',                                 # Frequency\n",
    "    'TotalPrice': 'sum'                                     # Monetary\n",
    "}).rename(columns={\n",
    "    'InvoiceDate': 'Recency',\n",
    "    'InvoiceNo': 'Frequency',\n",
    "    'TotalPrice': 'Monetary'\n",
    "})"
   ]
  },
  {
   "cell_type": "code",
   "execution_count": null,
   "id": "0e1c7f36",
   "metadata": {},
   "outputs": [],
   "source": [
    "rfm['WillPurchaseAgain'] = customer_df['WillPurchaseAgain']"
   ]
  },
  {
   "cell_type": "code",
   "execution_count": null,
   "id": "e716569c",
   "metadata": {},
   "outputs": [],
   "source": [
    "from sklearn.model_selection import train_test_split\n",
    "\n",
    "X = rfm.drop('WillPurchaseAgain', axis=1)\n",
    "y = rfm['WillPurchaseAgain']\n",
    "\n",
    "X_train, X_test, y_train, y_test = train_test_split(X, y, test_size=0.2, random_state=42)"
   ]
  },
  {
   "cell_type": "code",
   "execution_count": null,
   "id": "bb96fcef",
   "metadata": {},
   "outputs": [],
   "source": [
    "from sklearn.ensemble import RandomForestClassifier\n",
    "from sklearn.metrics import classification_report\n",
    "\n",
    "model = RandomForestClassifier()\n",
    "model.fit(X_train, y_train)\n",
    "\n",
    "y_pred = model.predict(X_test)\n",
    "print(classification_report(y_test, y_pred))"
   ]
  },
  {
   "cell_type": "code",
   "execution_count": null,
   "id": "2143b2b0",
   "metadata": {},
   "outputs": [],
   "source": [
    "rfm['PredictedRepurchase'] = model.predict(X)"
   ]
  },
  {
   "cell_type": "code",
   "execution_count": null,
   "id": "7f6127ce",
   "metadata": {},
   "outputs": [],
   "source": [
    "df.head()"
   ]
  }
 ],
 "metadata": {
  "language_info": {
   "name": "python"
  }
 },
 "nbformat": 4,
 "nbformat_minor": 5
}
